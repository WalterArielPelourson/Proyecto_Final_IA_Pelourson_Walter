{
 "cells": [
  {
   "cell_type": "markdown",
   "metadata": {
    "id": "K-ynIyJAC7Ra"
   },
   "source": [
    "# Sección nueva"
   ]
  },
  {
   "cell_type": "markdown",
   "metadata": {
    "id": "vboioo5zEmrG"
   },
   "source": [
    "TEXTO A TEXTO"
   ]
  },
  {
   "cell_type": "code",
   "execution_count": null,
   "metadata": {
    "colab": {
     "base_uri": "https://localhost:8080/"
    },
    "executionInfo": {
     "elapsed": 3754,
     "status": "ok",
     "timestamp": 1739878894333,
     "user": {
      "displayName": "walterarielpelourson@yahoo.com.ar",
      "userId": "07390384842318528660"
     },
     "user_tz": 180
    },
    "id": "h636cbqJ3OsP",
    "outputId": "9f8952db-30be-424f-a3b5-9695bee34689"
   },
   "outputs": [],
   "source": [
    "pip install groq"
   ]
  },
  {
   "cell_type": "code",
   "execution_count": 15,
   "metadata": {
    "executionInfo": {
     "elapsed": 262,
     "status": "ok",
     "timestamp": 1739881018734,
     "user": {
      "displayName": "walterarielpelourson@yahoo.com.ar",
      "userId": "07390384842318528660"
     },
     "user_tz": 180
    },
    "id": "-X1awKIk_GiM"
   },
   "outputs": [],
   "source": [
    "from groq import Groq"
   ]
  },
  {
   "cell_type": "code",
   "execution_count": 27,
   "metadata": {
    "executionInfo": {
     "elapsed": 320,
     "status": "ok",
     "timestamp": 1739882511253,
     "user": {
      "displayName": "walterarielpelourson@yahoo.com.ar",
      "userId": "07390384842318528660"
     },
     "user_tz": 180
    },
    "id": "uZmSlH8E_YKM"
   },
   "outputs": [],
   "source": [
    "#Configuracion de mi API KEY\n",
    "cliente = Groq(api_key=\"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\")"
   ]
  },
  {
   "cell_type": "code",
   "execution_count": 31,
   "metadata": {
    "executionInfo": {
     "elapsed": 267,
     "status": "ok",
     "timestamp": 1739882644237,
     "user": {
      "displayName": "walterarielpelourson@yahoo.com.ar",
      "userId": "07390384842318528660"
     },
     "user_tz": 180
    },
    "id": "g2arB_QQ3BeH"
   },
   "outputs": [],
   "source": [
    "# Lista de prompts adicionales\n",
    "prompts = [\n",
    "    \"¿Cómo crees que la educación en línea puede ser mejorada para adaptarse a diferentes estilos de aprendizaje?\",\n",
    "    \"Comparte una herramienta o recurso en línea que te haya sido particularmente útil en tus estudios. ¿Por qué lo recomendarías a otros estudiantes?\",\n",
    "    \"¿Qué opinas sobre la importancia del equilibrio entre la vida personal y académica en el contexto de la educación en línea?\",\n",
    "    \"Reflexiona sobre un momento en el que hayas sentido una gran satisfacción académica. ¿Qué lo hizo especial y cómo lo lograste?\",\n",
    "    \"¿Cómo manejas el estrés y la presión de los estudios en línea? Comparte algunas técnicas que te hayan ayudado.\",\n",
    "    \"¿Qué habilidades crees que son esenciales para tener éxito en un entorno de aprendizaje en línea? ¿Cómo las has desarrollado?\",\n",
    "    \"¿Cómo te mantienes organizado y gestionas tu tiempo mientras estudias en línea? ¿Qué herramientas o métodos utilizas?\",\n",
    "    \"¿Qué opinas sobre la gamificación en la educación? ¿Crees que puede hacer el aprendizaje más efectivo y divertido?\",\n",
    "    \"¿Cómo crees que la educación en línea puede fomentar la inclusión y la diversidad?\",\n",
    "    \"¿Qué cambios te gustaría ver en el sistema educativo actual para mejorar la experiencia de aprendizaje en línea?\"\n",
    "]\n",
    "\n"
   ]
  },
  {
   "cell_type": "code",
   "execution_count": 32,
   "metadata": {
    "executionInfo": {
     "elapsed": 267,
     "status": "ok",
     "timestamp": 1739882645925,
     "user": {
      "displayName": "walterarielpelourson@yahoo.com.ar",
      "userId": "07390384842318528660"
     },
     "user_tz": 180
    },
    "id": "J6EFIunfACWk"
   },
   "outputs": [],
   "source": [
    "# Función para generar respuestas utilizando Groq\n",
    "def generar_respuesta_groq(prompt):\n",
    "  respuesta = cliente.chat.completions.create(\n",
    "      model=\"llama3-8b-8192\",\n",
    "      messages=[\n",
    "          {\"role\": \"user\", \"content\": prompt}\n",
    "      ],\n",
    "      max_tokens=150\n",
    "  )\n",
    "  return respuesta.choices[0].message.content  # Devolver el contenido de la respuesta\n",
    "#print(respuesta.choices[0].message.content)\n",
    "\n"
   ]
  },
  {
   "cell_type": "code",
   "execution_count": 33,
   "metadata": {
    "colab": {
     "base_uri": "https://localhost:8080/"
    },
    "executionInfo": {
     "elapsed": 3270,
     "status": "ok",
     "timestamp": 1739882650886,
     "user": {
      "displayName": "walterarielpelourson@yahoo.com.ar",
      "userId": "07390384842318528660"
     },
     "user_tz": 180
    },
    "id": "FQG1sarUATPs",
    "outputId": "72a508d3-2d24-45df-e41e-1c36c80f408b"
   },
   "outputs": [
    {
     "name": "stdout",
     "output_type": "stream",
     "text": [
      "Prompt: ¿Cómo crees que la educación en línea puede ser mejorada para adaptarse a diferentes estilos de aprendizaje?\n",
      "Respuesta: La educación en línea puede ser mejorada para adaptarse a diferentes estilos de aprendizaje mediante varios enfoques y estrategias. A continuación, te presento algunos sugerencias:\n",
      "\n",
      "1. **Multimedia y interactividad**: Incorporar múltiples formatos de contenido, como videos, audio, imágenes, texto y actividades interactivas, puede atraer a estudiantes con diferentes estilos de aprendizaje.\n",
      "2. **Flexibilidad y personalización**: Ofrecer opciones de aprendizaje flexibles y personalizadas, como aprendizaje auto-determinado o adaptaciones de contenido, puede ayudar a estudiantes a aprender de manera efectiva según sus necesidades.\n",
      "3. **Evaluaciones\n",
      "\n",
      "Prompt: Comparte una herramienta o recurso en línea que te haya sido particularmente útil en tus estudios. ¿Por qué lo recomendarías a otros estudiantes?\n",
      "Respuesta: Como asistente lingüístico, no tengo experiencia personal en estudios, pero puedo recomendar una herramienta en línea que ha sido muy útil para muchos estudiantes de todo el mundo: YouTube EDU (www.youtube.com/edu).\n",
      "\n",
      "YouTube EDU es una sección especial de YouTube dedicada a recursos educativos y cursos en línea. En ella, puedes encontrar una gran variedad de contenido académico, como videos de clase, tutoriales, documentaries, etc. sobre una amplia gama de temas, desde ciencias y tecnología hasta artes y humanidades.\n",
      "\n",
      "Yo recomiendo YouTube EDU a otros estudiantes por varias razones:\n",
      "\n",
      "1. **Accesibilidad**: YouTube EDU es una plataforma en línea gratuita\n",
      "\n",
      "Prompt: ¿Qué opinas sobre la importancia del equilibrio entre la vida personal y académica en el contexto de la educación en línea?\n",
      "Respuesta: Considero que el equilibrio entre la vida personal y académica es fundamental en el contexto de la educación en línea. La educación en línea puede ser flexibilizada y permisible, pero esto también puede llevar a students (estudiantes) a vivir en una constante sobrecarga y desconexión de sus necesidades personales y emocionales. Aquí hay varias razones por las que este equilibrio es crucial:\n",
      "\n",
      "1. **Reducir el estrés y el burnout**: La sobrecarga académica y personal puede llevar a estudiantes a vivir en un estado de estrés crónico, lo que puede afectar negativamente su salud mental y física. Al equilibrar\n",
      "\n",
      "Prompt: Reflexiona sobre un momento en el que hayas sentido una gran satisfacción académica. ¿Qué lo hizo especial y cómo lo lograste?\n",
      "Respuesta: Me enfrento a una pregunta interesante, ya que como modelo de lenguaje, no tengo una experiencia personal de satisfacción académica. Sin embargo, puedo reflexionar sobre una situación hipotética que podría haber ocurrido en el caso de un estudiante de ciencias.\n",
      "\n",
      "Imagine que soy un estudiante de física que ha estado trabajando en un proyecto de investigación sobre la formación de estrellas en la Vía Láctea. Después de semanas de análisis de datos y teoría, logro crear un modelo que explique de manera efectiva la formación de estrellas de diferentes mascaras en la región central de la galaxia.\n",
      "\n",
      "La sensación de satisfacción académica que experiment\n",
      "\n",
      "Prompt: ¿Cómo manejas el estrés y la presión de los estudios en línea? Comparte algunas técnicas que te hayan ayudado.\n",
      "Respuesta: ¡Excelente pregunta! Manejar el estrés y la presión de los estudios en línea es un desafío común. A continuación, te comparto algunas técnicas que me han ayudado a gestionar el estrés y mantener la productividad:\n",
      "\n",
      "1. **Creación de un horario y un plan**: Establecer un horario y un plan de estudio ordenados me ayuda a sentir que tengo el control de mis tareas y a priorizar mis actividades de manera efectiva.\n",
      "2. **División del trabajo en tareas menores**: Al dividir las tareas en pequeños pasos y hacerlos uno a uno, me siento menos abrumado y más capaz de avanzar pro\n",
      "\n",
      "Prompt: ¿Qué habilidades crees que son esenciales para tener éxito en un entorno de aprendizaje en línea? ¿Cómo las has desarrollado?\n",
      "Respuesta: Excelente pregunta! En un entorno de aprendizaje en línea, las habilidades siguientes son esenciales para tener éxito:\n",
      "\n",
      "1. **Autodidactismo**: La capacidad de aprender de manera independiente y gestionar tu propio tiempo es fundamental en un entorno en línea.\n",
      "2. **Organización**: La capacidad de organizar tu tiempo y materiales es clave para mantener el ritmo y seguir los plazos.\n",
      "3. **Comunicación efectiva**: La comunicación efectiva con el instructor, con otros estudiantes y con la plataforma de aprendizaje es crucial para solucionar problemas y recibir retroalimentación.\n",
      "4. **Resolución de problemas**: La capacidad de identificar y resolver problemas técnicos\n",
      "\n",
      "Prompt: ¿Cómo te mantienes organizado y gestionas tu tiempo mientras estudias en línea? ¿Qué herramientas o métodos utilizas?\n",
      "Respuesta:  Como asistente virtual, no tengo una experiencia personal de estudiar en línea, pero puedo compartir con usted algunas estrategias y herramientas que pueden ser útiles para mantenerse organizado y gestionar el tiempo mientras se estudia en línea:\n",
      "\n",
      "**Planeación y organización**\n",
      "\n",
      "1. Calendario digital: Utiliza un calendario digital como Google Calendar, Apple Calendar o cualquier otro para programar tareas y fechas límite.\n",
      "2. Tareas y listas de tareas: Utiliza una aplicacion de tareas como Trello, Asana, Todoist o Wunderlist para crear listas de tareas y tenerlas organizadas.\n",
      "3. Plano de estudios: Crea un plano de estud\n",
      "\n",
      "Prompt: ¿Qué opinas sobre la gamificación en la educación? ¿Crees que puede hacer el aprendizaje más efectivo y divertido?\n",
      "Respuesta: La gamificación en la educación! Me parece una herramienta innovadora y atractiva que puede tener un gran impacto en el proceso de aprendizaje. Y mi respuesta es un resounding \"¡sí!\" Creo que la gamificación puede hacer el aprendizaje más efectivo y divertido.\n",
      "\n",
      "Aquí hay algunas razones por las que estoy de acuerdo:\n",
      "\n",
      "1. **Incrementa la motivación**: Los jugadores se sienten motivados cuando logran objetivos y tienen un control sobre su progreso. En el aprendizaje, este tipo de motivación puede impulsar a los estudiantes a participar más activamente y a estar más enfocados en el material que se les enseña.\n",
      "2.\n",
      "\n",
      "Prompt: ¿Cómo crees que la educación en línea puede fomentar la inclusión y la diversidad?\n",
      "Respuesta: La educación en línea (e-learning) puede fomentar la inclusión y la diversidad de varias maneras:\n",
      "\n",
      "1. **Accesibilidad**: La educación en línea permite a los estudiantes con discapacidad física, visual o auditiva acceder a la educación de manera igualitaria, ya que no requiere la presencia física en un aula.\n",
      "2. **Flexibilidad**: El e-learning ofrece horarios flexibles, lo que beneficia a los estudiantes que tienen responsabilidades familiares o laborales y no pueden asistir a clases tradicionales.\n",
      "3. **Diversidad de contenidos**: Los recursos y contenidos en línea pueden ser diseñados para abordar temas y\n",
      "\n",
      "Prompt: ¿Qué cambios te gustaría ver en el sistema educativo actual para mejorar la experiencia de aprendizaje en línea?\n",
      "Respuesta: Como un modelo de lenguaje objetivo y basado en datos, no tengo experiencias personales, pero puedo analizar las tendencias y necesidades actuales del sistema educativo y ofrecer sugerencias para mejorar la experiencia de aprendizaje en línea. Aquí hay algunas ideas:\n",
      "\n",
      "1. **Flexibilidad y personalización**: Los sistemas educativos deben ser más flexibles y personalizados para adaptarse a las necesidades individuales de cada estudiante. Esto puede ser logrado a través de la creación de planes de estudio personalizados, ritmos de aprendizaje adaptativos y recursos de aprendizaje en línea que se ajusten a las habilidades y estilo de aprendizaje individual.\n",
      "2. **Inclusión\n",
      "\n"
     ]
    }
   ],
   "source": [
    "# Generar y mostrar respuestas\n",
    "for prompt in prompts:\n",
    "    respuesta = generar_respuesta_groq(prompt)\n",
    "    print(f\"Prompt: {prompt}\\nRespuesta: {respuesta}\\n\")\n"
   ]
  },
  {
   "cell_type": "markdown",
   "metadata": {
    "id": "F5VOWar14q-B"
   },
   "source": [
    "Generador de imagenes\n"
   ]
  },
  {
   "cell_type": "code",
   "execution_count": null,
   "metadata": {
    "id": "-nWGpiohVAOj"
   },
   "outputs": [],
   "source": [
    "import openai\n",
    "from io import BytesIO\n",
    "import requests\n",
    "from PIL import Image\n"
   ]
  },
  {
   "cell_type": "code",
   "execution_count": null,
   "metadata": {
    "id": "EG4AOP0HV8rj"
   },
   "outputs": [],
   "source": [
    "#Configuracion de la API_KEY\n",
    "\n",
    "openai.api_key=\"\""
   ]
  },
  {
   "cell_type": "code",
   "execution_count": null,
   "metadata": {
    "id": "x_qPak-8WH_D"
   },
   "outputs": [],
   "source": [
    "prompt=[\" Haceme una imagen comparativa e impactante entre el antes educación presencial y el hoy  educación online  que contenga métodos de enseñanza, personalización del aprendizaje, colaboración y comunicación, evaluación y seguimiento y por ultimo inclusión y accesibilidad.\"]\n"
   ]
  },
  {
   "cell_type": "code",
   "execution_count": null,
   "metadata": {
    "id": "jL_r8HA6YWik"
   },
   "outputs": [],
   "source": [
    "#codigo para generar img\n",
    "response=openai.Image.create(\n",
    "    model = \"dall-e-3\",\n",
    "    prompt = prompt,\n",
    "    size = \"1024x1024\",\n",
    "\n",
    ")\n",
    "url_imagen=response[\"data\"][0][\"url\"]\n",
    "print(url_imagen)\n"
   ]
  },
  {
   "cell_type": "code",
   "execution_count": null,
   "metadata": {
    "id": "1gOn13ewZVOt"
   },
   "outputs": [],
   "source": [
    "#Descargar y guardar img\n",
    "imagen = Image.open(BytesIO(requests.get(url_imagen).content))\n",
    "imagen.save(\"imagen_generada.png\")"
   ]
  }
 ],
 "metadata": {
  "colab": {
   "provenance": [
    {
     "file_id": "1sIqQQK1lbgJmr_Z-3wRu4qSfsdBvsar0",
     "timestamp": 1739876788305
    },
    {
     "file_id": "19B5k_hA0SfZAYVael6fjZ72188FYnP9W",
     "timestamp": 1739537343464
    },
    {
     "file_id": "1xrSPQ79hc5yiADWfv1t0-kRzalmQySzQ",
     "timestamp": 1737583381846
    }
   ]
  },
  "kernelspec": {
   "display_name": "Python 3",
   "name": "python3"
  },
  "language_info": {
   "name": "python"
  }
 },
 "nbformat": 4,
 "nbformat_minor": 0
}
