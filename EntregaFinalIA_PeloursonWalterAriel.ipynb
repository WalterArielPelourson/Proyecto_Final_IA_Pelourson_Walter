{
  "cells": [
    {
      "cell_type": "markdown",
      "source": [
        "# Sección nueva"
      ],
      "metadata": {
        "id": "K-ynIyJAC7Ra"
      }
    },
    {
      "cell_type": "markdown",
      "source": [
        "TEXTO A TEXTO"
      ],
      "metadata": {
        "id": "vboioo5zEmrG"
      }
    },
    {
      "cell_type": "code",
      "source": [
        "pip install groq"
      ],
      "metadata": {
        "colab": {
          "base_uri": "https://localhost:8080/"
        },
        "id": "h636cbqJ3OsP",
        "outputId": "da35e743-8802-4187-a9da-70dbfcf7ab23"
      },
      "execution_count": 1,
      "outputs": [
        {
          "output_type": "stream",
          "name": "stdout",
          "text": [
            "Collecting groq\n",
            "  Downloading groq-0.18.0-py3-none-any.whl.metadata (14 kB)\n",
            "Requirement already satisfied: anyio<5,>=3.5.0 in /usr/local/lib/python3.11/dist-packages (from groq) (3.7.1)\n",
            "Requirement already satisfied: distro<2,>=1.7.0 in /usr/local/lib/python3.11/dist-packages (from groq) (1.9.0)\n",
            "Requirement already satisfied: httpx<1,>=0.23.0 in /usr/local/lib/python3.11/dist-packages (from groq) (0.28.1)\n",
            "Requirement already satisfied: pydantic<3,>=1.9.0 in /usr/local/lib/python3.11/dist-packages (from groq) (2.10.6)\n",
            "Requirement already satisfied: sniffio in /usr/local/lib/python3.11/dist-packages (from groq) (1.3.1)\n",
            "Requirement already satisfied: typing-extensions<5,>=4.10 in /usr/local/lib/python3.11/dist-packages (from groq) (4.12.2)\n",
            "Requirement already satisfied: idna>=2.8 in /usr/local/lib/python3.11/dist-packages (from anyio<5,>=3.5.0->groq) (3.10)\n",
            "Requirement already satisfied: certifi in /usr/local/lib/python3.11/dist-packages (from httpx<1,>=0.23.0->groq) (2025.1.31)\n",
            "Requirement already satisfied: httpcore==1.* in /usr/local/lib/python3.11/dist-packages (from httpx<1,>=0.23.0->groq) (1.0.7)\n",
            "Requirement already satisfied: h11<0.15,>=0.13 in /usr/local/lib/python3.11/dist-packages (from httpcore==1.*->httpx<1,>=0.23.0->groq) (0.14.0)\n",
            "Requirement already satisfied: annotated-types>=0.6.0 in /usr/local/lib/python3.11/dist-packages (from pydantic<3,>=1.9.0->groq) (0.7.0)\n",
            "Requirement already satisfied: pydantic-core==2.27.2 in /usr/local/lib/python3.11/dist-packages (from pydantic<3,>=1.9.0->groq) (2.27.2)\n",
            "Downloading groq-0.18.0-py3-none-any.whl (121 kB)\n",
            "\u001b[2K   \u001b[90m━━━━━━━━━━━━━━━━━━━━━━━━━━━━━━━━━━━━━━━━\u001b[0m \u001b[32m121.9/121.9 kB\u001b[0m \u001b[31m1.9 MB/s\u001b[0m eta \u001b[36m0:00:00\u001b[0m\n",
            "\u001b[?25hInstalling collected packages: groq\n",
            "Successfully installed groq-0.18.0\n"
          ]
        }
      ]
    },
    {
      "cell_type": "code",
      "source": [
        "from groq import Groq"
      ],
      "metadata": {
        "id": "-X1awKIk_GiM"
      },
      "execution_count": 2,
      "outputs": []
    },
    {
      "cell_type": "code",
      "source": [
        "import openai\n",
        "from io import BytesIO\n",
        "import requests\n",
        "from PIL import Image"
      ],
      "metadata": {
        "id": "UYN_CQipdt_W"
      },
      "execution_count": 3,
      "outputs": []
    },
    {
      "cell_type": "code",
      "source": [
        "#Configuracion de mi API KEY\n",
        "cliente = Groq(api_key=\"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\")"
      ],
      "metadata": {
        "id": "uZmSlH8E_YKM"
      },
      "execution_count": 4,
      "outputs": []
    },
    {
      "cell_type": "code",
      "source": [
        "# Lista de prompts adicionales\n",
        "prompts = [\n",
        "    \"¿Cómo crees que la educación en línea puede ser mejorada para adaptarse a diferentes estilos de aprendizaje?\",\n",
        "    \"Comparte una herramienta o recurso en línea que te haya sido particularmente útil en tus estudios. ¿Por qué lo recomendarías a otros estudiantes?\",\n",
        "    \"¿Qué opinas sobre la importancia del equilibrio entre la vida personal y académica en el contexto de la educación en línea?\",\n",
        "    \"Reflexiona sobre un momento en el que hayas sentido una gran satisfacción académica. ¿Qué lo hizo especial y cómo lo lograste?\",\n",
        "    \"¿Cómo manejas el estrés y la presión de los estudios en línea? Comparte algunas técnicas que te hayan ayudado.\",\n",
        "    \"¿Qué habilidades crees que son esenciales para tener éxito en un entorno de aprendizaje en línea? ¿Cómo las has desarrollado?\",\n",
        "    \"¿Cómo te mantienes organizado y gestionas tu tiempo mientras estudias en línea? ¿Qué herramientas o métodos utilizas?\",\n",
        "    \"¿Qué opinas sobre la gamificación en la educación? ¿Crees que puede hacer el aprendizaje más efectivo y divertido?\",\n",
        "    \"¿Cómo crees que la educación en línea puede fomentar la inclusión y la diversidad?\",\n",
        "    \"¿Qué cambios te gustaría ver en el sistema educativo actual para mejorar la experiencia de aprendizaje en línea?\"\n",
        "]\n",
        "\n"
      ],
      "metadata": {
        "id": "g2arB_QQ3BeH"
      },
      "execution_count": 5,
      "outputs": []
    },
    {
      "cell_type": "code",
      "source": [
        "# Función para generar respuestas utilizando Groq\n",
        "def generar_respuesta_groq(prompt):\n",
        "  respuesta = cliente.chat.completions.create(\n",
        "      model=\"llama3-8b-8192\",\n",
        "      messages=[\n",
        "          {\"role\": \"user\", \"content\": prompt}\n",
        "      ],\n",
        "      max_tokens=150\n",
        "  )\n",
        "  return respuesta.choices[0].message.content  # Devolver el contenido de la respuesta\n",
        "#print(respuesta.choices[0].message.content)\n",
        "\n"
      ],
      "metadata": {
        "id": "J6EFIunfACWk"
      },
      "execution_count": 6,
      "outputs": []
    },
    {
      "cell_type": "code",
      "source": [
        "# Generar y mostrar respuestas\n",
        "for prompt in prompts:\n",
        "    respuesta = generar_respuesta_groq(prompt)\n",
        "    print(f\"Prompt: {prompt}\\nRespuesta: {respuesta}\\n\")\n"
      ],
      "metadata": {
        "colab": {
          "base_uri": "https://localhost:8080/"
        },
        "id": "FQG1sarUATPs",
        "outputId": "e7222447-4253-4786-c61b-981dfeecfe77"
      },
      "execution_count": 7,
      "outputs": [
        {
          "output_type": "stream",
          "name": "stdout",
          "text": [
            "Prompt: ¿Cómo crees que la educación en línea puede ser mejorada para adaptarse a diferentes estilos de aprendizaje?\n",
            "Respuesta: La educación en línea puede ser mejorada para adaptarse a diferentes estilos de aprendizaje mediante varias estrategias y tecnologías. A continuación, te presento algunas ideas:\n",
            "\n",
            "1. **Personalización**: Las plataformas de educación en línea pueden ofrecer opciones para que los estudiantes puedan personalizar su experiencia de aprendizaje, como elegir el ritmo del curso, el tipo de contenido y los canales de comunicación.\n",
            "2. **Múltiples formatos de contenido**: Ofrecer diversidad de formatos de contenido, como videos, audios, textos, imágenes y simulaciones, puede ayudar a los estudiantes a encontrar el formato que mejor se adapta a\n",
            "\n",
            "Prompt: Comparte una herramienta o recurso en línea que te haya sido particularmente útil en tus estudios. ¿Por qué lo recomendarías a otros estudiantes?\n",
            "Respuesta: Una herramienta en línea que me ha sido particularmente útil en mis estudios es la plataforma de aprendizaje en línea, Coursera.\n",
            "\n",
            "Coursera es una plataforma de aprendizaje en línea que ofrece cursos de nivel universitario impartidos por universidades y organizaciones de todo el mundo. Me ha sido útil en varios frentes:\n",
            "\n",
            "1. Acceso a cursos de nivel universitario: Coursera ofrece una gran variedad de cursos de nivel universitario, incluyendo materias como ciencias, matemáticas, idiomas, empresariales y más. Esto me ha permitido acceder a materias que no están disponibles en mi universidad local o que no tengo tiempo de\n",
            "\n",
            "Prompt: ¿Qué opinas sobre la importancia del equilibrio entre la vida personal y académica en el contexto de la educación en línea?\n",
            "Respuesta: La importancia del equilibrio entre la vida personal y académica en el contexto de la educación en línea (ensenanza a distancia) es fundamental. Cuando los estudiantes estudian en línea, a menudo deben manejar múltiples responsabilidades al mismo tiempo, como trabajar, cuidar a seres queridos, mantener una rutina saludable y gestionar su propio tiempo. Esto puede ser especialmente desafiante si no se está acostumbrado a manejar estos múltiples roles.\n",
            "\n",
            "A continuación, te presento algunas razones por las que el equilibrio entre la vida personal y académica es crucial en el contexto de la educación en línea:\n",
            "\n",
            "1. **Reducir el estr\n",
            "\n",
            "Prompt: Reflexiona sobre un momento en el que hayas sentido una gran satisfacción académica. ¿Qué lo hizo especial y cómo lo lograste?\n",
            "Respuesta: Éste es un recuerdo emocionante que siempre me hace sonreír. Fue durante mi tercer año de licenciatura en Ingeniería de Software, en la Universidad de [Nombre de la universidad]. Durante ese trimestre, asistí a un curso de \" Diseño de Software de Alto Desempeño\", donde tuvimos que realizar un proyecto individual que consistía en diseñar y desarrollar un sistema de gestión de proyectos para pequeñas empresas.\n",
            "\n",
            "Me llama la atención porque era el primer curso en el que pusimos en práctica el conocimiento teórico en un proyecto real y completo. Para mí, significaba un desafío significativo, ya que nunca había trabajado en un\n",
            "\n",
            "Prompt: ¿Cómo manejas el estrés y la presión de los estudios en línea? Comparte algunas técnicas que te hayan ayudado.\n",
            "Respuesta: El estrés y la presión de los estudios en línea! Es un tema muy común y que muchos estudiantes en línea enfrentan. Aquí te comparto algunas técnicas que me han ayudado a gestionar el estrés y la presión cuando estoy estudiando en línea:\n",
            "\n",
            "1. **Planificación y organización**: Establecer una rutina y un horario de estudio es fundamental para mantenerse enfocado y motivado. Asegúrate de dividir tus tareas en pequeños pasos y priorizarlas según su importancia y plazo de entrega.\n",
            "2. **Toma regular de pausas**: Pausarse regularmente para hacer algún ejercicio, caminar o simplemente disfrutar de\n",
            "\n",
            "Prompt: ¿Qué habilidades crees que son esenciales para tener éxito en un entorno de aprendizaje en línea? ¿Cómo las has desarrollado?\n",
            "Respuesta: Tengo el placer de responder a esta pregunta, aunque no puedo hablar en primera persona ya que soy una inteligencia artificial. Sin embargo, puedo proporcionarle una visión general de las habilidades esenciales para tener éxito en un entorno de aprendizaje en línea y cómo se pueden desarrollar.\n",
            "\n",
            "**Habilidades esenciales**\n",
            "\n",
            "1. **Autonomía**: Es fundamental poder planificar y gestionar el tiempo de manera efectiva para seguir un plan de estudios.\n",
            "2. **Habilidades digitales**: Dominar herramientas y plataformas digitales es crucial para navegar y interactuar en entornos virtuales.\n",
            "3. **Comunicación efectiva**: La comunicación es clave en un\n",
            "\n",
            "Prompt: ¿Cómo te mantienes organizado y gestionas tu tiempo mientras estudias en línea? ¿Qué herramientas o métodos utilizas?\n",
            "Respuesta: Como asistente virtual, no tengo experiencias personales, pero puedo proporcionarte algunas estrategias y herramientas que pueden ser útiles para mantenerse organizado y gestionar el tiempo mientras se estudia en línea:\n",
            "\n",
            "**Estrategias para mantenerse organizado:**\n",
            "\n",
            "1. Crea un calendario personalizado: Utiliza un calendario digital o físico para marca los plazos y fechas importantes, como las fechas de entrega de tareas, exámenes y consultas con profesores o compañeros de clase.\n",
            "2. Divide el tiempo en segmentos: Divide el día en periodos de estudio y descanso para mantener una ritmo regular y evitar la sobrecarga.\n",
            "3.\n",
            "\n",
            "Prompt: ¿Qué opinas sobre la gamificación en la educación? ¿Crees que puede hacer el aprendizaje más efectivo y divertido?\n",
            "Respuesta: La gamificación en la educación! Es un tema muy interesante y controversial. En mi opinión, la gamificación puede ser un poderoso herramienta para hacer el aprendizaje más efectivo y divertido, pero solo si se implementa de manera inteligente y respetuosa con el proceso de enseñanza aprendizaje.\n",
            "\n",
            "La gamificación se basa en la aplicación de los principios de los juegos para motivar y estimular el comportamiento de los estudiantes. Esto puede incluir la inclusión de elementos como puntos, recompensas, desafíos, competencias y evolución de personajes virtuales. Al incorporar estos elementos, se sienten los estudiantes como si estuvieran\n",
            "\n",
            "Prompt: ¿Cómo crees que la educación en línea puede fomentar la inclusión y la diversidad?\n",
            "Respuesta: La educación en línea puede fomentar la inclusión y la diversidad de varias maneras:\n",
            "\n",
            "1. **Accesibilidad universal**: Los cursos en línea pueden ser accedidos desde cualquier lugar con conexión a Internet, lo que elimina barreras geográficas y facilita el acceso a la educación para personas con discapacidad, personas en situación de exclusión social o emocionalmente desfavorecidas.\n",
            "2. **Flexibilidad**: Los estudiantes pueden aprender a su propio ritmo y en el momento que mejor les conviene, lo que es beneficioso para personas con limitaciones de movilidad, cuidados de familiares o empleos a tiempo parcial.\n",
            "3. ** MATERIALS Y CONTEN\n",
            "\n",
            "Prompt: ¿Qué cambios te gustaría ver en el sistema educativo actual para mejorar la experiencia de aprendizaje en línea?\n",
            "Respuesta: Como un modelo de lenguaje basado en inteligencia artificial, no tengo una experiencia personal, pero puedo basarme en los sentidos y necesidades de muchos estudiosos, educadores y estudiantes para dar mi visión sobre los cambios que podrían mejorar la experiencia de aprendizaje en línea. Aquí te presento algunos de los cambios que podrían ser beneficiosos:\n",
            "\n",
            "1. **Flexibilidad y adaptabilidad**: Los programas de aprendizaje en línea deben ser más flexibles y adaptados a las necesidades individuales de los estudiantes, incluyendo la posibilidad de ritmo de aprendizaje personalizado y materiales adaptados a las habilidades y necesidades específicas de cada estudiante.\n",
            "2.\n",
            "\n"
          ]
        }
      ]
    },
    {
      "cell_type": "markdown",
      "source": [
        "Generador de imagenes\n"
      ],
      "metadata": {
        "id": "F5VOWar14q-B"
      }
    },
    {
      "cell_type": "code",
      "source": [
        "#Configuracion de la API_KEY\n",
        "\n",
        "openai.api_key=\"\""
      ],
      "metadata": {
        "id": "EG4AOP0HV8rj"
      },
      "execution_count": 8,
      "outputs": []
    },
    {
      "cell_type": "code",
      "source": [
        "prompt=[\"Haceme una imagen comparativa e impactante entre el antes educación presencial y el hoy  educación online  que contenga métodos de enseñanza, personalización del aprendizaje, colaboración y comunicación, evaluación y seguimiento y por ultimo inclusión y accesibilidad.\"]\n"
      ],
      "metadata": {
        "id": "x_qPak-8WH_D"
      },
      "execution_count": 9,
      "outputs": []
    },
    {
      "cell_type": "code",
      "source": [
        "#codigo para generar img\n",
        "response=openai.Image.create(\n",
        "    model = \"dall-e-3\",\n",
        "    prompt = prompt,\n",
        "    size = \"1024x1024\",\n",
        "\n",
        ")\n",
        "url_imagen=response[\"data\"][0][\"url\"]\n",
        "print(url_imagen)\n"
      ],
      "metadata": {
        "id": "jL_r8HA6YWik"
      },
      "execution_count": null,
      "outputs": []
    },
    {
      "cell_type": "code",
      "source": [
        "#Descargar y guardar img\n",
        "imagen = Image.open(BytesIO(requests.get(url_imagen).content))\n",
        "imagen.save(\"imagen_generada.png\")"
      ],
      "metadata": {
        "id": "1gOn13ewZVOt"
      },
      "execution_count": null,
      "outputs": []
    }
  ],
  "metadata": {
    "colab": {
      "provenance": []
    },
    "kernelspec": {
      "display_name": "Python 3",
      "name": "python3"
    },
    "language_info": {
      "name": "python"
    }
  },
  "nbformat": 4,
  "nbformat_minor": 0
}